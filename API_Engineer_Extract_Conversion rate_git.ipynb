{
 "cells": [
  {
   "cell_type": "markdown",
   "metadata": {},
   "source": [
    "<center>\n",
    "    <img src=\"https://gitlab.com/ibm/skills-network/courses/placeholder101/-/raw/master/labs/module%201/images/IDSNlogo.png\" width=\"300\" alt=\"cognitiveclass.ai logo\"  />\n",
    "</center>\n"
   ]
  },
  {
   "cell_type": "markdown",
   "metadata": {},
   "source": [
    "# Peer Review Assignment - Data Engineer - Extract API Data\n"
   ]
  },
  {
   "cell_type": "markdown",
   "metadata": {},
   "source": [
    "Estimated time needed: **20** minutes\n"
   ]
  },
  {
   "cell_type": "markdown",
   "metadata": {},
   "source": [
    "## Objectives\n",
    "\n",
    "In this part you will:\n",
    "\n",
    "*   Collect exchange rate data using an API\n",
    "*   Store the data as a CSV\n"
   ]
  },
  {
   "cell_type": "markdown",
   "metadata": {},
   "source": [
    "For this lab, we are going to be using Python and several Python libraries. Some of these libraries might be installed in your lab environment or in SN Labs. Others may need to be installed by you. The cells below will install these libraries when executed.\n"
   ]
  },
  {
   "cell_type": "code",
   "execution_count": 99,
   "metadata": {},
   "outputs": [
    {
     "name": "stdout",
     "output_type": "stream",
     "text": [
      "Requirement already satisfied: pandas in /home/jupyterlab/conda/envs/python/lib/python3.7/site-packages (1.3.4)\n",
      "Requirement already satisfied: python-dateutil>=2.7.3 in /home/jupyterlab/conda/envs/python/lib/python3.7/site-packages (from pandas) (2.8.2)\n",
      "Requirement already satisfied: pytz>=2017.3 in /home/jupyterlab/conda/envs/python/lib/python3.7/site-packages (from pandas) (2021.3)\n",
      "Requirement already satisfied: numpy>=1.17.3 in /home/jupyterlab/conda/envs/python/lib/python3.7/site-packages (from pandas) (1.21.4)\n",
      "Requirement already satisfied: six>=1.5 in /home/jupyterlab/conda/envs/python/lib/python3.7/site-packages (from python-dateutil>=2.7.3->pandas) (1.16.0)\n",
      "Requirement already satisfied: requests in /home/jupyterlab/conda/envs/python/lib/python3.7/site-packages (2.26.0)\n",
      "Requirement already satisfied: certifi>=2017.4.17 in /home/jupyterlab/conda/envs/python/lib/python3.7/site-packages (from requests) (2021.10.8)\n",
      "Requirement already satisfied: urllib3<1.27,>=1.21.1 in /home/jupyterlab/conda/envs/python/lib/python3.7/site-packages (from requests) (1.26.7)\n",
      "Requirement already satisfied: idna<4,>=2.5 in /home/jupyterlab/conda/envs/python/lib/python3.7/site-packages (from requests) (3.1)\n",
      "Requirement already satisfied: charset-normalizer~=2.0.0 in /home/jupyterlab/conda/envs/python/lib/python3.7/site-packages (from requests) (2.0.8)\n"
     ]
    }
   ],
   "source": [
    "!pip install pandas\n",
    "!pip install requests"
   ]
  },
  {
   "cell_type": "markdown",
   "metadata": {},
   "source": [
    "## Imports\n",
    "\n",
    "Import any additional libraries you may need here.\n"
   ]
  },
  {
   "cell_type": "code",
   "execution_count": 100,
   "metadata": {},
   "outputs": [],
   "source": [
    "import requests\n",
    "import pandas as pd\n",
    "import json\n",
    "import csv"
   ]
  },
  {
   "cell_type": "markdown",
   "metadata": {},
   "source": [
    "## Extract Data Using an API\n"
   ]
  },
  {
   "cell_type": "markdown",
   "metadata": {},
   "source": [
    "Using ExchangeRate-API we will extract currency exchange rate data. Use the below steps to get the access key and to get the data.\n",
    "\n",
    "1.  Open the url : [https://exchangeratesapi.io/](https://exchangeratesapi.io/?utm_medium=Exinfluencer&utm_source=Exinfluencer&utm_content=000026UJ&utm_term=10006555&utm_id=NA-SkillsNetwork-Channel-SkillsNetworkCoursesIBMDeveloperSkillsNetworkPY0221ENSkillsNetwork23455645-2021-01-01) and create a free account.\n",
    "2.  Once the account is created. You will get the Get the Free API key option on the top as shown below:\n",
    "\n",
    "<img src=\"https://cf-courses-data.s3.us.cloud-object-storage.appdomain.cloud/IBMDeveloperSkillsNetwork-PY0221EN-SkillsNetwork/labs/module%206/Final%20Assignment/Images/getapi.png\"/>\n",
    "\n",
    "3.  Copy the API key and use in the url in Question 1.\n"
   ]
  },
  {
   "cell_type": "markdown",
   "metadata": {},
   "source": [
    "### Call the API\n",
    "\n",
    "<b> Question 1</b> Using the `requests` library call the endpoint given above and save the text, remember the first few characters of the output:\n"
   ]
  },
  {
   "cell_type": "code",
   "execution_count": 101,
   "metadata": {},
   "outputs": [
    {
     "data": {
      "text/plain": [
       "{'success': True,\n",
       " 'timestamp': 1641539343,\n",
       " 'base': 'EUR',\n",
       " 'date': '2022-01-07',\n",
       " 'rates': {'AED': 4.151451,\n",
       "  'AFN': 118.572678,\n",
       "  'ALL': 121.392443,\n",
       "  'AMD': 546.502941,\n",
       "  'ANG': 2.039109,\n",
       "  'AOA': 623.54813,\n",
       "  'ARS': 116.689216,\n",
       "  'AUD': 1.578976,\n",
       "  'AWG': 2.034416,\n",
       "  'AZN': 1.922697,\n",
       "  'BAM': 1.956091,\n",
       "  'BBD': 2.284534,\n",
       "  'BDT': 97.277823,\n",
       "  'BGN': 1.953993,\n",
       "  'BHD': 0.42618,\n",
       "  'BIF': 2257.301194,\n",
       "  'BMD': 1.130231,\n",
       "  'BND': 1.539046,\n",
       "  'BOB': 7.80161,\n",
       "  'BRL': 6.42491,\n",
       "  'BSD': 1.131416,\n",
       "  'BTC': 2.736611e-05,\n",
       "  'BTN': 84.214685,\n",
       "  'BWP': 13.233256,\n",
       "  'BYN': 2.930491,\n",
       "  'BYR': 22152.524653,\n",
       "  'BZD': 2.280674,\n",
       "  'CAD': 1.437207,\n",
       "  'CDF': 2268.373627,\n",
       "  'CHF': 1.041502,\n",
       "  'CLF': 0.034309,\n",
       "  'CLP': 946.680411,\n",
       "  'CNY': 7.206125,\n",
       "  'COP': 4557.84804,\n",
       "  'CRC': 726.581261,\n",
       "  'CUC': 1.130231,\n",
       "  'CUP': 29.951118,\n",
       "  'CVE': 110.280695,\n",
       "  'CZK': 24.515102,\n",
       "  'DJF': 201.420646,\n",
       "  'DKK': 7.438061,\n",
       "  'DOP': 64.730494,\n",
       "  'DZD': 157.482986,\n",
       "  'EGP': 17.761128,\n",
       "  'ERN': 16.953551,\n",
       "  'ETB': 56.130853,\n",
       "  'EUR': 1,\n",
       "  'FJD': 2.412024,\n",
       "  'FKP': 0.852622,\n",
       "  'GBP': 0.83476,\n",
       "  'GEL': 3.493034,\n",
       "  'GGP': 0.852622,\n",
       "  'GHS': 6.986894,\n",
       "  'GIP': 0.852622,\n",
       "  'GMD': 59.76091,\n",
       "  'GNF': 10415.466592,\n",
       "  'GTQ': 8.735043,\n",
       "  'GYD': 236.793699,\n",
       "  'HKD': 8.816196,\n",
       "  'HNL': 27.780848,\n",
       "  'HRK': 7.521673,\n",
       "  'HTG': 113.125101,\n",
       "  'HUF': 360.21022,\n",
       "  'IDR': 16227.628493,\n",
       "  'ILS': 3.511706,\n",
       "  'IMP': 0.852622,\n",
       "  'INR': 84.014583,\n",
       "  'IQD': 1651.41041,\n",
       "  'IRR': 47780.508839,\n",
       "  'ISK': 146.409637,\n",
       "  'JEP': 0.852622,\n",
       "  'JMD': 174.580895,\n",
       "  'JOD': 0.801353,\n",
       "  'JPY': 131.0271,\n",
       "  'KES': 127.885549,\n",
       "  'KGS': 95.845929,\n",
       "  'KHR': 4610.837786,\n",
       "  'KMF': 490.865452,\n",
       "  'KPW': 1017.207677,\n",
       "  'KRW': 1359.158546,\n",
       "  'KWD': 0.342177,\n",
       "  'KYD': 0.942926,\n",
       "  'KZT': 492.70576,\n",
       "  'LAK': 12712.596725,\n",
       "  'LBP': 1710.828341,\n",
       "  'LKR': 228.558205,\n",
       "  'LRD': 165.720084,\n",
       "  'LSL': 17.766636,\n",
       "  'LTL': 3.337278,\n",
       "  'LVL': 0.683666,\n",
       "  'LYD': 5.205034,\n",
       "  'MAD': 10.488293,\n",
       "  'MDL': 20.253403,\n",
       "  'MGA': 4500.311286,\n",
       "  'MKD': 61.622679,\n",
       "  'MMK': 2011.702301,\n",
       "  'MNT': 3230.634515,\n",
       "  'MOP': 9.091913,\n",
       "  'MRO': 403.492219,\n",
       "  'MUR': 48.921408,\n",
       "  'MVR': 17.473258,\n",
       "  'MWK': 924.336745,\n",
       "  'MXN': 23.165548,\n",
       "  'MYR': 4.755441,\n",
       "  'MZN': 72.142818,\n",
       "  'NAD': 17.755266,\n",
       "  'NGN': 465.598208,\n",
       "  'NIO': 40.06141,\n",
       "  'NOK': 10.043248,\n",
       "  'NPR': 134.737811,\n",
       "  'NZD': 1.673595,\n",
       "  'OMR': 0.43517,\n",
       "  'PAB': 1.131451,\n",
       "  'PEN': 4.484359,\n",
       "  'PGK': 4.02363,\n",
       "  'PHP': 57.992444,\n",
       "  'PKR': 199.812481,\n",
       "  'PLN': 4.555903,\n",
       "  'PYG': 7848.604489,\n",
       "  'QAR': 4.115164,\n",
       "  'RON': 4.94521,\n",
       "  'RSD': 117.60619,\n",
       "  'RUB': 86.330988,\n",
       "  'RWF': 1173.980334,\n",
       "  'SAR': 4.241778,\n",
       "  'SBD': 9.140638,\n",
       "  'SCR': 15.518895,\n",
       "  'SDG': 494.471633,\n",
       "  'SEK': 10.335876,\n",
       "  'SGD': 1.536091,\n",
       "  'SHP': 1.556778,\n",
       "  'SLL': 12805.51552,\n",
       "  'SOS': 662.315573,\n",
       "  'SRD': 24.030969,\n",
       "  'STD': 23393.496661,\n",
       "  'SVC': 9.900321,\n",
       "  'SYP': 2839.696853,\n",
       "  'SZL': 17.800425,\n",
       "  'THB': 38.043446,\n",
       "  'TJS': 12.780119,\n",
       "  'TMT': 3.96711,\n",
       "  'TND': 3.256759,\n",
       "  'TOP': 2.582013,\n",
       "  'TRY': 15.664237,\n",
       "  'TTD': 7.693027,\n",
       "  'TWD': 31.284228,\n",
       "  'TZS': 2608.572882,\n",
       "  'UAH': 31.107689,\n",
       "  'UGX': 4008.870525,\n",
       "  'USD': 1.130231,\n",
       "  'UYU': 50.628205,\n",
       "  'UZS': 12242.193941,\n",
       "  'VEF': 241677513874.2311,\n",
       "  'VND': 25673.19375,\n",
       "  'VUV': 128.001642,\n",
       "  'WST': 2.938793,\n",
       "  'XAF': 656.024243,\n",
       "  'XAG': 0.051161,\n",
       "  'XAU': 0.000631,\n",
       "  'XCD': 3.054506,\n",
       "  'XDR': 0.808683,\n",
       "  'XOF': 656.024243,\n",
       "  'XPF': 119.66877,\n",
       "  'YER': 282.557361,\n",
       "  'ZAR': 17.837281,\n",
       "  'ZMK': 10173.433119,\n",
       "  'ZMW': 18.980281,\n",
       "  'ZWL': 363.933872}}"
      ]
     },
     "execution_count": 101,
     "metadata": {},
     "output_type": "execute_result"
    }
   ],
   "source": [
    "# Write your code here\n",
    "url =requests.get(\"http://api.exchangeratesapi.io/v1/latest?base=EUR&access_key=3fd5b19724f63ee7b5df81d88d7f3ea0\") #Make sure to change ******* to your API key.\n",
    "cat=url.json()\n",
    "cat"
   ]
  },
  {
   "cell_type": "markdown",
   "metadata": {},
   "source": [
    "### Save as DataFrame\n",
    "\n",
    "<b> Question 2</b>  Using the data gathered turn it into a `pandas` dataframe. The dataframe should have the Currency as the index and `Rate` as their columns. Make sure to drop unnecessary columns.\n"
   ]
  },
  {
   "cell_type": "code",
   "execution_count": 102,
   "metadata": {},
   "outputs": [
    {
     "data": {
      "text/html": [
       "<div>\n",
       "<style scoped>\n",
       "    .dataframe tbody tr th:only-of-type {\n",
       "        vertical-align: middle;\n",
       "    }\n",
       "\n",
       "    .dataframe tbody tr th {\n",
       "        vertical-align: top;\n",
       "    }\n",
       "\n",
       "    .dataframe thead th {\n",
       "        text-align: right;\n",
       "    }\n",
       "</style>\n",
       "<table border=\"1\" class=\"dataframe\">\n",
       "  <thead>\n",
       "    <tr style=\"text-align: right;\">\n",
       "      <th></th>\n",
       "      <th>success</th>\n",
       "      <th>timestamp</th>\n",
       "      <th>base</th>\n",
       "      <th>date</th>\n",
       "      <th>rates</th>\n",
       "    </tr>\n",
       "  </thead>\n",
       "  <tbody>\n",
       "    <tr>\n",
       "      <th>AED</th>\n",
       "      <td>True</td>\n",
       "      <td>2022-01-07 07:09:03</td>\n",
       "      <td>EUR</td>\n",
       "      <td>2022-01-07</td>\n",
       "      <td>4.151451</td>\n",
       "    </tr>\n",
       "    <tr>\n",
       "      <th>AFN</th>\n",
       "      <td>True</td>\n",
       "      <td>2022-01-07 07:09:03</td>\n",
       "      <td>EUR</td>\n",
       "      <td>2022-01-07</td>\n",
       "      <td>118.572678</td>\n",
       "    </tr>\n",
       "    <tr>\n",
       "      <th>ALL</th>\n",
       "      <td>True</td>\n",
       "      <td>2022-01-07 07:09:03</td>\n",
       "      <td>EUR</td>\n",
       "      <td>2022-01-07</td>\n",
       "      <td>121.392443</td>\n",
       "    </tr>\n",
       "    <tr>\n",
       "      <th>AMD</th>\n",
       "      <td>True</td>\n",
       "      <td>2022-01-07 07:09:03</td>\n",
       "      <td>EUR</td>\n",
       "      <td>2022-01-07</td>\n",
       "      <td>546.502941</td>\n",
       "    </tr>\n",
       "    <tr>\n",
       "      <th>ANG</th>\n",
       "      <td>True</td>\n",
       "      <td>2022-01-07 07:09:03</td>\n",
       "      <td>EUR</td>\n",
       "      <td>2022-01-07</td>\n",
       "      <td>2.039109</td>\n",
       "    </tr>\n",
       "  </tbody>\n",
       "</table>\n",
       "</div>"
      ],
      "text/plain": [
       "     success           timestamp base       date       rates\n",
       "AED     True 2022-01-07 07:09:03  EUR 2022-01-07    4.151451\n",
       "AFN     True 2022-01-07 07:09:03  EUR 2022-01-07  118.572678\n",
       "ALL     True 2022-01-07 07:09:03  EUR 2022-01-07  121.392443\n",
       "AMD     True 2022-01-07 07:09:03  EUR 2022-01-07  546.502941\n",
       "ANG     True 2022-01-07 07:09:03  EUR 2022-01-07    2.039109"
      ]
     },
     "execution_count": 102,
     "metadata": {},
     "output_type": "execute_result"
    }
   ],
   "source": [
    "# Turn the data into a dataframe\n",
    "df = pd.read_json(\"http://api.exchangeratesapi.io/v1/latest?base=EUR&access_key=3fd5b19724f63ee7b5df81d88d7f3ea0\")\n",
    "df.head()"
   ]
  },
  {
   "cell_type": "code",
   "execution_count": 103,
   "metadata": {},
   "outputs": [
    {
     "data": {
      "text/html": [
       "<div>\n",
       "<style scoped>\n",
       "    .dataframe tbody tr th:only-of-type {\n",
       "        vertical-align: middle;\n",
       "    }\n",
       "\n",
       "    .dataframe tbody tr th {\n",
       "        vertical-align: top;\n",
       "    }\n",
       "\n",
       "    .dataframe thead th {\n",
       "        text-align: right;\n",
       "    }\n",
       "</style>\n",
       "<table border=\"1\" class=\"dataframe\">\n",
       "  <thead>\n",
       "    <tr style=\"text-align: right;\">\n",
       "      <th></th>\n",
       "      <th>rates</th>\n",
       "    </tr>\n",
       "  </thead>\n",
       "  <tbody>\n",
       "    <tr>\n",
       "      <th>AED</th>\n",
       "      <td>4.151451</td>\n",
       "    </tr>\n",
       "    <tr>\n",
       "      <th>AFN</th>\n",
       "      <td>118.572678</td>\n",
       "    </tr>\n",
       "    <tr>\n",
       "      <th>ALL</th>\n",
       "      <td>121.392443</td>\n",
       "    </tr>\n",
       "    <tr>\n",
       "      <th>AMD</th>\n",
       "      <td>546.502941</td>\n",
       "    </tr>\n",
       "    <tr>\n",
       "      <th>ANG</th>\n",
       "      <td>2.039109</td>\n",
       "    </tr>\n",
       "    <tr>\n",
       "      <th>...</th>\n",
       "      <td>...</td>\n",
       "    </tr>\n",
       "    <tr>\n",
       "      <th>YER</th>\n",
       "      <td>282.557361</td>\n",
       "    </tr>\n",
       "    <tr>\n",
       "      <th>ZAR</th>\n",
       "      <td>17.837281</td>\n",
       "    </tr>\n",
       "    <tr>\n",
       "      <th>ZMK</th>\n",
       "      <td>10173.433119</td>\n",
       "    </tr>\n",
       "    <tr>\n",
       "      <th>ZMW</th>\n",
       "      <td>18.980281</td>\n",
       "    </tr>\n",
       "    <tr>\n",
       "      <th>ZWL</th>\n",
       "      <td>363.933872</td>\n",
       "    </tr>\n",
       "  </tbody>\n",
       "</table>\n",
       "<p>168 rows × 1 columns</p>\n",
       "</div>"
      ],
      "text/plain": [
       "            rates\n",
       "AED      4.151451\n",
       "AFN    118.572678\n",
       "ALL    121.392443\n",
       "AMD    546.502941\n",
       "ANG      2.039109\n",
       "..            ...\n",
       "YER    282.557361\n",
       "ZAR     17.837281\n",
       "ZMK  10173.433119\n",
       "ZMW     18.980281\n",
       "ZWL    363.933872\n",
       "\n",
       "[168 rows x 1 columns]"
      ]
     },
     "execution_count": 103,
     "metadata": {},
     "output_type": "execute_result"
    }
   ],
   "source": [
    "# Drop unnescessary columns\n",
    "df.drop([\"success\",\"timestamp\",\"base\",\"date\"],axis=1,inplace=True)\n",
    "df"
   ]
  },
  {
   "cell_type": "markdown",
   "metadata": {},
   "source": [
    "### Load the Data\n",
    "\n",
    "Using the dataframe save it as a CSV names `exchange_rates_1.csv`.\n"
   ]
  },
  {
   "cell_type": "code",
   "execution_count": 105,
   "metadata": {},
   "outputs": [],
   "source": [
    "# Save the Dataframe\n",
    "df.to_csv(\"exchange_rates_1.csv\")"
   ]
  },
  {
   "cell_type": "markdown",
   "metadata": {},
   "source": [
    "Your CSV should be in this format with more currencies\n",
    "\n",
    "|     | Rates      |\n",
    "| --- | ---------- |\n",
    "| AED | 4.398618   |\n",
    "| AFN | 92.917693  |\n",
    "| ALL | 123.099093 |\n",
    "| AMD | 621.935674 |\n",
    "| ANG | 2.149648   |\n"
   ]
  },
  {
   "cell_type": "markdown",
   "metadata": {},
   "source": [
    "## Authors\n"
   ]
  },
  {
   "cell_type": "markdown",
   "metadata": {},
   "source": [
    "Ramesh Sannareddy, Joseph Santarcangelo and Azim Hirjani\n"
   ]
  },
  {
   "cell_type": "markdown",
   "metadata": {},
   "source": [
    "### Other Contributors\n"
   ]
  },
  {
   "cell_type": "markdown",
   "metadata": {},
   "source": [
    "Rav Ahuja\n"
   ]
  },
  {
   "cell_type": "markdown",
   "metadata": {},
   "source": [
    "## Change Log\n"
   ]
  },
  {
   "cell_type": "markdown",
   "metadata": {},
   "source": [
    "| Date (YYYY-MM-DD) | Version | Changed By        | Change Description                 |\n",
    "| ----------------- | ------- | ----------------- | ---------------------------------- |\n",
    "| 2021-04-15        | 0.2     | Malika            | Updated the lab from USD to EUR    |\n",
    "| 2020-11-25        | 0.1     | Ramesh Sannareddy | Created initial version of the lab |\n"
   ]
  },
  {
   "cell_type": "markdown",
   "metadata": {},
   "source": [
    "Copyright © 2020 IBM Corporation. This notebook and its source code are released under the terms of the [MIT License](https://cognitiveclass.ai/mit-license?utm_medium=Exinfluencer&utm_source=Exinfluencer&utm_content=000026UJ&utm_term=10006555&utm_id=NA-SkillsNetwork-Channel-SkillsNetworkCoursesIBMDeveloperSkillsNetworkPY0221ENSkillsNetwork23455645-2021-01-01&cm_mmc=Email_Newsletter-\\_-Developer_Ed%2BTech-\\_-WW_WW-\\_-SkillsNetwork-Courses-IBM-DA0321EN-SkillsNetwork-21426264&cm_mmca1=000026UJ&cm_mmca2=10006555&cm_mmca3=M12345678&cvosrc=email.Newsletter.M12345678&cvo_campaign=000026UJ).\n"
   ]
  }
 ],
 "metadata": {
  "kernelspec": {
   "display_name": "Python",
   "language": "python",
   "name": "conda-env-python-py"
  },
  "language_info": {
   "codemirror_mode": {
    "name": "ipython",
    "version": 3
   },
   "file_extension": ".py",
   "mimetype": "text/x-python",
   "name": "python",
   "nbconvert_exporter": "python",
   "pygments_lexer": "ipython3",
   "version": "3.7.12"
  }
 },
 "nbformat": 4,
 "nbformat_minor": 4
}
